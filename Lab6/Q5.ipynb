{
 "cells": [
  {
   "cell_type": "code",
   "execution_count": 5,
   "id": "d11490d3",
   "metadata": {},
   "outputs": [
    {
     "data": {
      "text/plain": [
       "dict_keys(['__header__', '__version__', '__globals__', 'illum1', 'illum2', 'x', 'y', 'z'])"
      ]
     },
     "execution_count": 5,
     "metadata": {},
     "output_type": "execute_result"
    }
   ],
   "source": [
    "import numpy as np\n",
    "import matplotlib.pyplot as plt\n",
    "from matplotlib import cm\n",
    "from PIL import Image\n",
    "import io\n",
    "\n",
    "# Load data.npy\n",
    "data = np.load('data.npy', allow_pickle=True)[()]\n",
    "# List keys of dataset\n",
    "data.keys()\n",
    "# print(data)"
   ]
  },
  {
   "cell_type": "code",
   "execution_count": 6,
   "id": "3c03654f",
   "metadata": {},
   "outputs": [
    {
     "name": "stdout",
     "output_type": "stream",
     "text": [
      "z =  [[ 1.00000000e+00  9.94974874e-01  9.89949749e-01 ...  1.00502513e-02\n",
      "   5.02512563e-03  0.00000000e+00]\n",
      " [ 9.94974874e-01  9.89949749e-01  9.84924623e-01 ...  5.02512563e-03\n",
      "   2.16840434e-17 -5.02512563e-03]\n",
      " [ 9.89949749e-01  9.84924623e-01  9.79899497e-01 ... -6.76542156e-17\n",
      "  -5.02512563e-03 -1.00502513e-02]\n",
      " ...\n",
      " [ 1.00502513e-02  5.02512563e-03 -1.11022302e-16 ... -9.79899497e-01\n",
      "  -9.84924623e-01 -9.89949749e-01]\n",
      " [ 5.02512563e-03  0.00000000e+00 -5.02512563e-03 ... -9.84924623e-01\n",
      "  -9.89949749e-01 -9.94974874e-01]\n",
      " [ 0.00000000e+00 -5.02512563e-03 -1.00502513e-02 ... -9.89949749e-01\n",
      "  -9.94974874e-01 -1.00000000e+00]]\n",
      "(200, 200, 3)\n",
      "xyz =  [[ 1.00000000e+00  9.94974874e-01  9.89949749e-01 ...  1.00502513e-02\n",
      "   5.02512563e-03  0.00000000e+00]\n",
      " [ 9.94974874e-01  9.89949749e-01  9.84924623e-01 ...  5.02512563e-03\n",
      "   2.16840434e-17 -5.02512563e-03]\n",
      " [ 9.89949749e-01  9.84924623e-01  9.79899497e-01 ... -6.76542156e-17\n",
      "  -5.02512563e-03 -1.00502513e-02]\n",
      " ...\n",
      " [ 1.00502513e-02  5.02512563e-03 -1.11022302e-16 ... -9.79899497e-01\n",
      "  -9.84924623e-01 -9.89949749e-01]\n",
      " [ 5.02512563e-03  0.00000000e+00 -5.02512563e-03 ... -9.84924623e-01\n",
      "  -9.89949749e-01 -9.94974874e-01]\n",
      " [ 0.00000000e+00 -5.02512563e-03 -1.00502513e-02 ... -9.89949749e-01\n",
      "  -9.94974874e-01 -1.00000000e+00]]\n",
      "(200, 200, 3)\n"
     ]
    }
   ],
   "source": [
    "n = 1/0.005\n",
    "# print(int(n))\n",
    "\n",
    "spacing = np.linspace(0, 1, int(n))\n",
    "# spacing = np.reshape(spacing,(1,int(n)))\n",
    "# print(np.shape(spacing))\n",
    "# print(spacing)\n",
    "\n",
    "x, y = np.meshgrid(spacing, spacing)\n",
    "# print(\"x = \", x)\n",
    "# print(\"y = \", y)\n",
    "\n",
    "m, n = np.shape(x)\n",
    "z = np.zeros((m,n))\n",
    "for i in range(m):\n",
    "    for j in range(n):\n",
    "        z[i,j] = 1 - x[i,j] - y[i,j]\n",
    "        \n",
    "print(\"z = \", z)\n",
    "xyz = np.dstack((x, y, z))\n",
    "print(np.shape(xyz))\n",
    "XYZ = xyz\n",
    "# xyz = np.reshape(xyz, (200, 200, 3))\n",
    "# print(np.shape(xyz))\n",
    "print(\"xyz = \", xyz[:,:,2])\n",
    "\n",
    "set_709 = np.array([[0.640, 0.330, 0.030],\n",
    "                    [0.300, 0.600, 0.100],\n",
    "                    [0.150, 0.060, 0.790]])\n",
    "\n",
    "kcoeffmat = np.array([[1, 0, 0],\n",
    "                     [0, 1, 0],\n",
    "                     [0, 0, 1]])\n",
    "\n",
    "M = np.dot(set_709.T,kcoeffmat)\n",
    "\n",
    "# rgb = M^-1*xyz\n",
    "rgb = np.zeros((np.shape(XYZ)))\n",
    "planes = 3\n",
    "for i in range(m):\n",
    "    for j in range(n):\n",
    "        rgb[i,j,:] = np.dot(np.linalg.inv(M),XYZ[i,j,:])\n",
    "        for k in range(planes):\n",
    "            if rgb[i,j,k] < 0:\n",
    "                rgb[i,j,:] = 1\n",
    "        \n",
    "print(np.shape(rgb))\n",
    "\n",
    "gamma = 2.2\n",
    "\n",
    "rgb = np.flip(rgb,0) # ???????\n",
    "\n",
    "rgb = rgb**(1/gamma)\n",
    "\n",
    "# plt.figure()\n",
    "# plt.imshow(XYZ,extent=[0, 1, 0, 1])\n",
    "# something wrong with the XYZ definition???"
   ]
  },
  {
   "cell_type": "code",
   "execution_count": 7,
   "id": "6ce1b662",
   "metadata": {},
   "outputs": [],
   "source": [
    "x = data.get(\"x\")\n",
    "y = data.get(\"y\")\n",
    "z = data.get(\"z\")\n",
    "# print(np.shape(x))\n",
    "\n",
    "n = np.size(x)\n",
    "shape = (1,n)\n",
    "x_c = np.zeros(shape)\n",
    "y_c = np.zeros(shape)\n",
    "for i in range(n):\n",
    "    X = x[0,i]\n",
    "    Y = y[0,i]\n",
    "    Z = z[0,i]\n",
    "    x_c[0,i] = X/(X + Y + Z)\n",
    "    y_c[0,i] = Y/(X + Y + Z)\n",
    "    "
   ]
  },
  {
   "cell_type": "code",
   "execution_count": 8,
   "id": "c5cfa9de",
   "metadata": {},
   "outputs": [
    {
     "data": {
      "image/png": "[encoded data removed]",
      "text/plain": [
       "<Figure size 432x288 with 1 Axes>"
      ]
     },
     "metadata": {
      "needs_background": "light"
     },
     "output_type": "display_data"
    }
   ],
   "source": [
    "plt.figure()\n",
    "plt.imshow(rgb,extent=[0, 1, 0, 1])\n",
    "# plt.plot(np.append(x_c[0],x_c[0,0]),np.append(y_c[0],y_c[0,0]),'k-')\n",
    "\n",
    "# adding triangles\n",
    "set_CIE_1931 = np.array([[0.73467, 0.26533, 0.0],\n",
    "                     [0.27376, 0.71741, 0.00883],\n",
    "                     [0.16658, 0.00886, 0.82456]])\n",
    "\n",
    "set_709 = np.array([[0.640, 0.330, 0.030],\n",
    "                    [0.300, 0.600, 0.100],\n",
    "                    [0.150, 0.060, 0.790]])\n",
    "\n",
    "D65 = np.array([[0.3127, 0.3290, 0.3583]])\n",
    "\n",
    "EE = np.array([[0.3333, 0.3333, 0.3333]])\n",
    "\n",
    "location = 3\n",
    "rgblabel = np.array(['R', 'G', 'B'])\n",
    "# plt.figure()\n",
    "# Chromaticities\n",
    "plt.plot(np.append(x_c[0],x_c[0,0]),np.append(y_c[0],y_c[0,0]),'k-')\n",
    "# RGB CIE 1931\n",
    "plt.plot(np.append(set_CIE_1931[:,0],set_CIE_1931[0,0]),np.append(set_CIE_1931[:,1],set_CIE_1931[0,1]),color='orange')\n",
    "for i in range(location):\n",
    "    plt.text(set_CIE_1931[i,0],set_CIE_1931[i,1],rgblabel[i] + '$_{CIE1931}$')\n",
    "# RGB 709\n",
    "plt.plot(np.append(set_709[:,0],set_709[0,0]),np.append(set_709[:,1],set_709[0,1]),color='blue')\n",
    "for i in range(location):\n",
    "    plt.text(set_709[i,0],set_709[i,1],rgblabel[i] + '$_{709}$')\n",
    "\n",
    "plt.plot(D65[0,0],D65[0,1],'ro')\n",
    "plt.text(D65[0,0]-0.09,D65[0,1]-0.06,'$D_{65}$ WP')\n",
    "plt.plot(EE[0,0],EE[0,1],'gx')\n",
    "plt.text(EE[0,0]+0.01,EE[0,1]+0.03,'Equal Energy WP')\n",
    "\n",
    "\n",
    "png1 = io.BytesIO()\n",
    "plt.savefig(png1, format=\"png\")\n",
    "img_out = Image.open(png1)\n",
    "img_out.save(\"colordiagram.tif\")\n",
    "png1.close()"
   ]
  }
 ],
 "metadata": {
  "kernelspec": {
   "display_name": "Python 3 (ipykernel)",
   "language": "python",
   "name": "python3"
  },
  "language_info": {
   "codemirror_mode": {
    "name": "ipython",
    "version": 3
   },
   "file_extension": ".py",
   "mimetype": "text/x-python",
   "name": "python",
   "nbconvert_exporter": "python",
   "pygments_lexer": "ipython3",
   "version": "3.9.7"
  }
 },
 "nbformat": 4,
 "nbformat_minor": 5
}

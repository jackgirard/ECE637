{
 "cells": [
  {
   "cell_type": "code",
   "execution_count": 5,
   "id": "6d4238e6",
   "metadata": {},
   "outputs": [],
   "source": [
    "import numpy as np\n",
    "import matplotlib.pyplot as plt\n",
    "from matplotlib import cm\n",
    "from PIL import Image\n",
    "import import_ipynb\n",
    "import io\n",
    "import fidelity\n",
    "\n",
    "im = Image.open('house.tif')\n",
    "f = np.array(im)"
   ]
  },
  {
   "cell_type": "code",
   "execution_count": 6,
   "id": "55148f86",
   "metadata": {},
   "outputs": [],
   "source": [
    "dim1, dim2 = np.shape(f)\n",
    "gamma = 2.2\n",
    "fl = 255*((f/255)**gamma)"
   ]
  },
  {
   "cell_type": "code",
   "execution_count": 7,
   "id": "8b3d2731",
   "metadata": {
    "scrolled": true
   },
   "outputs": [],
   "source": [
    "T = 127\n",
    "out = np.zeros((dim1,dim2))\n",
    "out = np.pad(out,((1,1),(1,1)))\n",
    "fl = np.pad(fl,((1,1),(1,1)))\n",
    "\n",
    "for i in range(1,dim1+1):\n",
    "    for j in range(1,dim2+1):\n",
    "        # apply quantization\n",
    "        if fl[i,j] > T:\n",
    "            out[i,j] = 255\n",
    "        else:\n",
    "            out[i,j] = 0\n",
    "        # compute quantization error\n",
    "        pixelError = fl[i,j] - out[i,j]\n",
    "        # diffusing error to other indices\n",
    "        fl[i+1,j-1] += pixelError*(3/16)\n",
    "        fl[i+1,j] += pixelError*(5/16)\n",
    "        fl[i+1,j+1] += pixelError*(1/16)\n",
    "        fl[i,j+1] += pixelError*(7/16)\n",
    "# remove padding from output matrix\n",
    "out = out[1:-1,1:-1]\n",
    "\n",
    "# display image\n",
    "# plt.figure()\n",
    "# plt.title(\"Error Diffusion Halftone of house.tif\")\n",
    "# plt.imshow(out,cmap=plt.cm.gray,interpolation='none')\n",
    "\n",
    "# save image as .tif\n",
    "img_out = Image.fromarray(out.astype(np.uint8))\n",
    "img_out.save(\"ErrorDiffusion.tif\")"
   ]
  },
  {
   "cell_type": "code",
   "execution_count": 8,
   "id": "d0fb8fb0",
   "metadata": {},
   "outputs": [
    {
     "name": "stdout",
     "output_type": "stream",
     "text": [
      "RMSE =  98.84711671109255\n",
      "fidelity =  13.427253039026654\n"
     ]
    }
   ],
   "source": [
    "fid = fidelity.fidelity(f, out)\n",
    "\n",
    "# compute RMSE\n",
    "count = 0\n",
    "for i in range(dim1):\n",
    "    for j in range(dim2):\n",
    "        count += (f[i,j] - out[i,j])**2 \n",
    "RMSE = np.sqrt((1/(dim1*dim2))*count)\n",
    "\n",
    "# display RMSE and fidelity\n",
    "print(\"RMSE = \", RMSE)\n",
    "print(\"fidelity = \", fid)"
   ]
  }
 ],
 "metadata": {
  "kernelspec": {
   "display_name": "Python 3 (ipykernel)",
   "language": "python",
   "name": "python3"
  },
  "language_info": {
   "codemirror_mode": {
    "name": "ipython",
    "version": 3
   },
   "file_extension": ".py",
   "mimetype": "text/x-python",
   "name": "python",
   "nbconvert_exporter": "python",
   "pygments_lexer": "ipython3",
   "version": "3.9.7"
  }
 },
 "nbformat": 4,
 "nbformat_minor": 5
}

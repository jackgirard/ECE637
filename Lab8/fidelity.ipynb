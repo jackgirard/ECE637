{
 "cells": [
  {
   "cell_type": "code",
   "execution_count": null,
   "id": "0a1ec87f",
   "metadata": {},
   "outputs": [],
   "source": [
    "def fidelity(f, b):\n",
    "    import numpy as np\n",
    "    # calculate dimensions of input images\n",
    "    dim1, dim2 = np.shape(f)\n",
    "    \n",
    "    # gamma correct input images\n",
    "    gamma = 2.2\n",
    "    fl = 255*(f/255)**gamma\n",
    "    bl = 255*(b/255)**gamma\n",
    "    \n",
    "    # define 7x7 Gaussian filter   \n",
    "    sigsq = 2\n",
    "    size = 7\n",
    "    h = np.zeros((size, size))\n",
    "    for i in range(-3, 4):\n",
    "        for j in range(-3, 4):\n",
    "            h[i+3,j+3] = np.exp(-(i**2 + j**2)/(2*sigsq))\n",
    "    sumh = np.sum(h)\n",
    "    C = 1/sumh\n",
    "    h = C*h\n",
    "    \n",
    "    # pad gamma un-corrected matrices and initialize new matrices\n",
    "    fl = np.pad(fl,((3,3),(3,3)))\n",
    "    bl = np.pad(bl,((3,3),(3,3)))\n",
    "    flpf = np.zeros((dim1,dim2))\n",
    "    blpf = np.zeros((dim1,dim2))\n",
    "    \n",
    "    # apply 7x7 Gaussian filter to each index\n",
    "    for i in range(3, dim1+3):\n",
    "        for j in range(3, dim2+3):\n",
    "            flpf[i-3,j-3] = np.sum(np.multiply(fl[i-3:i+4, j-3:j+4], h))\n",
    "            blpf[i-3,j-3] = np.sum(np.multiply(bl[i-3:i+4, j-3:j+4], h))\n",
    "    \n",
    "    # re-gamma correct\n",
    "    ftil = 255*((flpf/255)**(1/3))\n",
    "    btil = 255*((blpf/255)**(1/3))\n",
    "    \n",
    "    # calculate fidelity\n",
    "    count = 0\n",
    "    for i in range(dim1):\n",
    "        for j in range(dim2):\n",
    "            count += (ftil[i,j] - btil[i,j])**2\n",
    "    fid = np.sqrt((1/(dim1*dim2))*count)\n",
    "    \n",
    "    return fid"
   ]
  }
 ],
 "metadata": {
  "kernelspec": {
   "display_name": "Python 3 (ipykernel)",
   "language": "python",
   "name": "python3"
  },
  "language_info": {
   "codemirror_mode": {
    "name": "ipython",
    "version": 3
   },
   "file_extension": ".py",
   "mimetype": "text/x-python",
   "name": "python",
   "nbconvert_exporter": "python",
   "pygments_lexer": "ipython3",
   "version": "3.9.7"
  }
 },
 "nbformat": 4,
 "nbformat_minor": 5
}
